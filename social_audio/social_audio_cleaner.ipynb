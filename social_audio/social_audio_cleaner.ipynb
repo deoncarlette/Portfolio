{
 "cells": [
  {
   "cell_type": "markdown",
   "metadata": {},
   "source": [
    "# Clubhouse Room Analytics"
   ]
  },
  {
   "cell_type": "code",
   "execution_count": 1,
   "metadata": {},
   "outputs": [],
   "source": [
    "# import datetime # haven't used module yet\n",
    "# import numpy as np # did I use this module?\n",
    "import pandas as pd\n",
    "# from matplotlib import pyplot as plt\n",
    "# import seaborn as sns\n",
    "\n",
    "\n",
    "pd.set_option('display.max_columns', None,\n",
    "              'display.max_rows', None,\n",
    "              'display.float_format', '{:,.2f}'.format,\n",
    "              'display.precision', 3\n",
    "             )\n",
    "\n",
    "\n",
    "# %matplotlib inline\n",
    "# plt.style.use('fivethirtyeight')\n",
    "# plt.rcParams['figure.figsize'] = (12, 10)\n",
    "\n",
    "\n",
    "# This one is optional -- change graphs to SVG\n",
    "# Only use if you don't have a lot of points/lines\n",
    "# on your graph.\n",
    "# Can also just use ['retina'] if you don't want SVG.\n",
    "# %config InlineBackend.figure_formats = ['retina', 'svg']\n",
    "\n",
    "# sns.set_style('whitegrid')"
   ]
  },
  {
   "cell_type": "code",
   "execution_count": 2,
   "metadata": {},
   "outputs": [],
   "source": [
    "df = pd.read_excel('ch_data.xlsx')"
   ]
  },
  {
   "cell_type": "code",
   "execution_count": 3,
   "metadata": {},
   "outputs": [],
   "source": [
    "# df.sample(5)"
   ]
  },
  {
   "cell_type": "code",
   "execution_count": 4,
   "metadata": {},
   "outputs": [],
   "source": [
    "# df.info()"
   ]
  },
  {
   "cell_type": "code",
   "execution_count": 5,
   "metadata": {},
   "outputs": [],
   "source": [
    "# list(df.columns.sort_values())"
   ]
  },
  {
   "cell_type": "code",
   "execution_count": 6,
   "metadata": {},
   "outputs": [
    {
     "data": {
      "text/plain": [
       "(803, 47)"
      ]
     },
     "execution_count": 6,
     "metadata": {},
     "output_type": "execute_result"
    },
    {
     "data": {
      "text/plain": [
       "(692, 47)"
      ]
     },
     "execution_count": 6,
     "metadata": {},
     "output_type": "execute_result"
    }
   ],
   "source": [
    "df.shape\n",
    "df = df.drop_duplicates(subset='Room ID', keep='first', ignore_index=True)\n",
    "df.shape"
   ]
  },
  {
   "cell_type": "code",
   "execution_count": 7,
   "metadata": {},
   "outputs": [],
   "source": [
    "# columns to be removed\n",
    "columns_drop = ['xEvent', 'xAvg Listener Time 2 [ClubHub]', 'xAvg Listener Time [ClubHub]', \n",
    "                'xAvg Speaker Time 2 [ClubHub]', 'xAvg Speaker Time [ClubHub]', 'xCalc', \n",
    "                'xDuration 2 [ClubHub]', 'xDuration [CH Tools]', 'xDuration [ClubHub]', 'xTime']\n",
    "\n",
    "# define column dtypes\n",
    "columns_date = ['Event']\n",
    "\n",
    "columns_cat = ['Club', 'Tag 1', 'Tag 2']\n",
    "\n",
    "columns_url = ['URL [CH Tools]','URL [ClubHub]']\n",
    "\n",
    "columns_pct = ['Bounce [ClubHub]', 'Joined [In Last 7 Days] [ClubHub]', 'Joined [In Last Month] [ClubHub]',\n",
    "               'Joined [Over A Month] [ClubHub]', ]\n",
    "\n",
    "columns_float = ['Avg Listened Minutes [New Members] [CH Tools]', 'Avg Listened Minutes [Old Members] [CH Tools]',\n",
    "                'Duration [CH Tools]', 'Duration [ClubHub]',]\n",
    "\n",
    "# ...and because OCD\n",
    "# don't like my integers to not display trailing zeros\n",
    "columns_int = ['Avg Listener Minutes [ClubHub]', 'Avg Speaker Minutes [ClubHub]', 'Avg User Time [CH Tools]',\n",
    "               'Followers [CH Tools]', 'Listeners [CH Tools]', 'Listeners [New Members] [CH Tools]',\n",
    "               'Listeners [Old Members] [CH Tools]', 'Max Users [ClubHub]', 'Moderators [CH Tools]',\n",
    "               'Moderators [New Members] [CH Tools]', 'Moderators [Old Members] [CH Tools]',\n",
    "               'My Followers [ClubHub]', 'Speakers [CH Tools]', 'Speakers [New Members] [CH Tools]',\n",
    "               'Speakers [Old Members] [CH Tools]', 'Total User Time [CH Tools]', 'Uniq Moderators [ClubHub]',\n",
    "               'Uniq Speakers [ClubHub]', 'Uniq Users [ClubHub]']\n",
    "\n",
    "columns_num = columns_pct + columns_int + columns_float"
   ]
  },
  {
   "cell_type": "code",
   "execution_count": 8,
   "metadata": {},
   "outputs": [],
   "source": [
    "def column_data(columns=list, data=str):\n",
    "    \n",
    "    for c in columns:\n",
    "        \n",
    "        # set column dtypes\n",
    "        if data == 'dt':\n",
    "            df[c] = pd.to_datetime(df[c])\n",
    "        \n",
    "        elif data == 'cat':\n",
    "            df[c] = df[c].astype('category')\n",
    "            \n",
    "        elif data == 'num':\n",
    "            df[c] = df[c].astype(float)\n",
    "#             df[c] = df[c].fillna(0)\n",
    "    \n",
    "#         remove these columns\n",
    "#         elif data == 'drop':\n",
    "#             df[c] = df.drop(columns=c)"
   ]
  },
  {
   "cell_type": "code",
   "execution_count": 9,
   "metadata": {},
   "outputs": [],
   "source": [
    "column_data(columns_date, 'dt')\n",
    "column_data(columns_cat, 'cat')\n",
    "column_data(columns_num, 'num')"
   ]
  },
  {
   "cell_type": "code",
   "execution_count": 10,
   "metadata": {},
   "outputs": [],
   "source": [
    "df = df[df['Room ID'].notna()]\n",
    "df = df.drop(columns=columns_drop)"
   ]
  },
  {
   "cell_type": "code",
   "execution_count": 11,
   "metadata": {},
   "outputs": [],
   "source": [
    "# df.sample(5)"
   ]
  },
  {
   "cell_type": "code",
   "execution_count": 12,
   "metadata": {},
   "outputs": [],
   "source": [
    "# df.isna().sum()"
   ]
  },
  {
   "cell_type": "code",
   "execution_count": 13,
   "metadata": {},
   "outputs": [],
   "source": [
    "# list(df.columns)"
   ]
  },
  {
   "cell_type": "code",
   "execution_count": 14,
   "metadata": {},
   "outputs": [],
   "source": [
    "df['Uniq Listeners [ClubHub]'] = df['Uniq Users [ClubHub]'] - df['Uniq Speakers [ClubHub]']\n",
    "df['Total Listener Time [ClubHub]'] = df['Uniq Listeners [ClubHub]'] * df['Avg Listener Minutes [ClubHub]'] \n",
    "df['Total Speaker Time [ClubHub]'] = df['Uniq Speakers [ClubHub]'] * df['Avg Speaker Minutes [ClubHub]']\n",
    "df['Total User Time [ClubHub]'] = df['Total Speaker Time [ClubHub]'] + df['Total Listener Time [ClubHub]']\n",
    "df['Avg Room Time [ClubHub]'] = df['Total User Time [ClubHub]'] / df['Uniq Users [ClubHub]']\n",
    "df['New Users [ClubHub]'] = (df['Joined [In Last 7 Days] [ClubHub]'] * df['Uniq Users [ClubHub]']).round()\n",
    "df['Old Users [ClubHub]'] = ((df['Joined [In Last Month] [ClubHub]'] + df['Joined [Over A Month] [ClubHub]']) * df['Uniq Users [ClubHub]']).round()\n",
    "\n",
    "\n",
    "df['Users [CH Tools]'] = df['Listeners [CH Tools]'] + df['Speakers [CH Tools]']                               \n",
    "df['New Users [CH Tools]'] = df['Listeners [New Members] [CH Tools]'] + df['Speakers [New Members] [CH Tools]']\n",
    "df['Old Users [CH Tools]'] = df['Listeners [Old Members] [CH Tools]'] + df['Speakers [Old Members] [CH Tools]']\n",
    "\n",
    "\n",
    "df['Duration'] = df[['Duration [CH Tools]', 'Duration [ClubHub]']].max(axis=1)\n",
    "df['Listeners'] = df[['Listeners [CH Tools]', 'Uniq Listeners [ClubHub]']].max(axis=1)\n",
    "df['Speakers'] = df[['Speakers [CH Tools]', 'Uniq Speakers [ClubHub]']].max(axis=1)\n",
    "df['Moderators'] = df[['Moderators [CH Tools]', 'Uniq Moderators [ClubHub]']].max(axis=1)\n",
    "df['Followers'] = df[['Followers [CH Tools]', 'My Followers [ClubHub]']].max(axis=1)\n",
    "df['Users'] = df[['Users [CH Tools]', 'Uniq Users [ClubHub]']].max(axis=1)\n",
    "df['Total User Time'] = df[['Total User Time [CH Tools]', 'Total User Time [ClubHub]']].max(axis=1)\n",
    "df['Avg User Time'] = df[['Avg User Time [CH Tools]', 'Avg Room Time [ClubHub]']].max(axis=1)\n",
    "df['New Users'] = df[['New Users [CH Tools]', 'New Users [ClubHub]']].max(axis=1)\n",
    "df['Old Users'] = df[['Old Users [CH Tools]', 'Old Users [ClubHub]']].max(axis=1)\n",
    "df['Stickiness [ClubHub]'] = 1 - df['Bounce [ClubHub]']\n",
    "\n",
    "df['New Users Pct'] = (df['New Users'] / df['Users']).round(2)\n",
    "df['Old Users Pct'] = (df['Old Users'] / df['Users']).round(2)"
   ]
  },
  {
   "cell_type": "code",
   "execution_count": 15,
   "metadata": {},
   "outputs": [],
   "source": [
    "# df.sample(5)"
   ]
  },
  {
   "cell_type": "code",
   "execution_count": 16,
   "metadata": {},
   "outputs": [],
   "source": [
    "# list(df.columns)"
   ]
  },
  {
   "cell_type": "code",
   "execution_count": 17,
   "metadata": {},
   "outputs": [],
   "source": [
    "columns = ['Event', 'Users', 'New Users', 'Old Users', 'New Users Pct', 'Old Users Pct',\n",
    "           'Users [CH Tools]', 'New Users [CH Tools]', 'Old Users [CH Tools]', \n",
    "           'Uniq Users [ClubHub]','New Users [ClubHub]', 'Old Users [ClubHub]']\n",
    "\n",
    "# df[columns].sample(5)"
   ]
  },
  {
   "cell_type": "code",
   "execution_count": 18,
   "metadata": {},
   "outputs": [],
   "source": [
    "columns = ['Room ID', 'Title', 'Event',\n",
    "           'New Users', 'Old Users', 'Users', \n",
    "           'New Users Pct', 'Old Users Pct', 'Pct Sum',\n",
    "           'New Users [CH Tools]', 'Old Users [CH Tools]', 'Users [CH Tools]',\n",
    "           'New Users [ClubHub]', 'Old Users [ClubHub]', 'Uniq Users [ClubHub]']\n",
    "\n",
    "\n",
    "# columns = ['Name', 'Event', 'Users', 'New Users', 'Old Users', 'New Users Pct', 'Old Users Pct',\n",
    "#            'Pct Sum', 'Users [CH Tools]', 'New Users [CH Tools]', 'Old Users [CH Tools]', \n",
    "#            'Uniq 'sers [ClubHub]','New Users [ClubHub]', 'Old Users [ClubHub]']\n",
    "\n",
    "\n",
    "df_check = df.copy()\n",
    "df_check['Pct Sum'] = df['New Users Pct'] + df['Old Users Pct']\n",
    "df_check = df_check.loc[df_check['Pct Sum'] > 1]\n",
    "df_check[columns];"
   ]
  },
  {
   "cell_type": "code",
   "execution_count": 19,
   "metadata": {},
   "outputs": [],
   "source": [
    "df['Users2'] = df['New Users'] + df['Old Users']\n",
    "df['Users Diff'] = abs(df['Users'] - df['Users2'])\n",
    "df['Users Pct'] = df['Users Diff'] / df['Users'] * 100"
   ]
  },
  {
   "cell_type": "code",
   "execution_count": 20,
   "metadata": {},
   "outputs": [],
   "source": [
    "columns = ['Room ID', 'Title', 'Event', 'Users Pct', 'Users Diff', 'Users', 'Users2']\n",
    "\n",
    "df_check = df.copy()\n",
    "df_check = df_check.loc[df_check['Users Pct'] > 10]\n",
    "df_check[columns];"
   ]
  },
  {
   "cell_type": "code",
   "execution_count": 21,
   "metadata": {},
   "outputs": [],
   "source": [
    "# list(df.columns)"
   ]
  },
  {
   "cell_type": "code",
   "execution_count": 22,
   "metadata": {},
   "outputs": [],
   "source": [
    "# df.isna().sum()"
   ]
  },
  {
   "cell_type": "code",
   "execution_count": 23,
   "metadata": {},
   "outputs": [],
   "source": [
    "# list(df.columns.sort_values())\n",
    "# list(df.columns)"
   ]
  },
  {
   "cell_type": "code",
   "execution_count": 24,
   "metadata": {},
   "outputs": [],
   "source": [
    "columns = ['Room ID', 'Title', 'Event', 'Club', 'Tag 1', 'Tag 2', 'Duration', 'Users', 'Max Users [ClubHub]',\n",
    "           'Moderators', 'Speakers', 'Listeners', 'Bounce [ClubHub]', 'Stickiness [ClubHub]', 'Total User Time', \n",
    "           'Avg User Time', 'Avg Listened Minutes [New Members] [CH Tools]', 'Avg Listened Minutes [Old Members] [CH Tools]',\n",
    "           'Avg Speaker Minutes [ClubHub]', 'Avg Listener Minutes [ClubHub]', 'New Users', \n",
    "           'New Users Pct', 'Old Users', 'Old Users Pct', 'Followers', 'URL [ClubHub]', 'URL [CH Tools]', 'URL 2 [CH Tools]']\n",
    "\n",
    "df = df[columns].copy()"
   ]
  },
  {
   "cell_type": "code",
   "execution_count": 25,
   "metadata": {},
   "outputs": [],
   "source": [
    "df.rename(\n",
    "    {'Room ID': 'Room_ID', \n",
    "     'Tag 1': 'Tag_1', \n",
    "     'Tag 2': 'Tag_2', \n",
    "     'Max Users [ClubHub]': 'Max_Room_Size',\n",
    "     'Bounce [ClubHub]': 'Bounce', \n",
    "     'Stickiness [ClubHub]': 'Stickiness', \n",
    "     'Total User Time': 'Total_User_Time', \n",
    "     'Avg User Time': 'Avg_User_Time', \n",
    "     'Avg Listened Minutes [New Members] [CH Tools]': 'Avg_User_Time_New_Members', \n",
    "     'Avg Listened Minutes [Old Members] [CH Tools]': 'Avg_User_Time_Old_Members',\n",
    "     'Avg Speaker Minutes [ClubHub]': 'Avg_Speaker_Time', \n",
    "     'Avg Listener Minutes [ClubHub]': 'Avg_Listener_Time', \n",
    "     'New Users': 'New_Users',\n",
    "     'New Users Pct': 'New_Users_Pct', \n",
    "     'Old Users': 'Old_Users', \n",
    "     'Old Users Pct': 'Old_Users_Pct',\n",
    "     'URL [ClubHub]': 'URL_ClubHub',\n",
    "     'URL [CH Tools]': 'URL_CH_Tools_1', \n",
    "     'URL 2 [CH Tools]': 'URL_CH_Tools_2'}, \n",
    "    axis=1, inplace=True)"
   ]
  },
  {
   "cell_type": "code",
   "execution_count": 26,
   "metadata": {},
   "outputs": [],
   "source": [
    "# df.rename(\n",
    "#     {'Max Users [ClubHub]': 'Max Room Size', \n",
    "#      'Bounce [ClubHub]': 'Bounce',\n",
    "#      'Stickiness [ClubHub]': 'Stickiness',\n",
    "#      'Avg Listened Minutes [New Members] [CH Tools]': 'Avg User Time [New Members]', \n",
    "#      'Avg Listened Minutes [Old Members] [CH Tools]': 'Avg User Time [Old Members]',\n",
    "#      'Avg Speaker Minutes [ClubHub]': 'Avg Speaker Time',\n",
    "#      'Avg Listener Minutes [ClubHub]': 'Avg Listener Time'}, \n",
    "#     axis=1, inplace=True)"
   ]
  },
  {
   "cell_type": "code",
   "execution_count": 27,
   "metadata": {},
   "outputs": [],
   "source": [
    "# df.sample(5)"
   ]
  },
  {
   "cell_type": "code",
   "execution_count": 28,
   "metadata": {},
   "outputs": [],
   "source": [
    "# df.describe().transpose()"
   ]
  },
  {
   "cell_type": "code",
   "execution_count": 29,
   "metadata": {},
   "outputs": [],
   "source": [
    "# df.columns"
   ]
  },
  {
   "cell_type": "code",
   "execution_count": 30,
   "metadata": {},
   "outputs": [],
   "source": [
    "drop = ['Tag_1', 'Tag_2', 'URL_CH_Tools_1', 'URL_CH_Tools_2', 'URL_ClubHub']\n",
    "\n",
    "df_save = df.copy()\n",
    "df_save = df_save.drop(columns=drop)"
   ]
  },
  {
   "cell_type": "code",
   "execution_count": 31,
   "metadata": {},
   "outputs": [
    {
     "name": "stdout",
     "output_type": "stream",
     "text": [
      "Process Complete\n"
     ]
    }
   ],
   "source": [
    "df_save.to_csv('ch_analytics_clean.csv')\n",
    "print('Process Complete')"
   ]
  }
 ],
 "metadata": {
  "kernelspec": {
   "display_name": "Python 3",
   "language": "python",
   "name": "python3"
  },
  "language_info": {
   "codemirror_mode": {
    "name": "ipython",
    "version": 3
   },
   "file_extension": ".py",
   "mimetype": "text/x-python",
   "name": "python",
   "nbconvert_exporter": "python",
   "pygments_lexer": "ipython3",
   "version": "3.7.9"
  }
 },
 "nbformat": 4,
 "nbformat_minor": 4
}
